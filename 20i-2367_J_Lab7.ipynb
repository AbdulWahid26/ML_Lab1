{
 "cells": [
  {
   "cell_type": "markdown",
   "id": "45160212",
   "metadata": {},
   "source": [
    "# Abdul Wahid Awan 20i-2367 J Lab7"
   ]
  },
  {
   "cell_type": "markdown",
   "id": "27fc1b9e",
   "metadata": {},
   "source": [
    "# Libraries"
   ]
  },
  {
   "cell_type": "code",
   "execution_count": null,
   "id": "ab37ec9c",
   "metadata": {},
   "outputs": [],
   "source": [
    "import pandas as pd\n",
    "import numpy as np"
   ]
  },
  {
   "cell_type": "markdown",
   "id": "52dd6685",
   "metadata": {},
   "source": [
    "# Task"
   ]
  },
  {
   "cell_type": "code",
   "execution_count": 220,
   "id": "7ab6e9ad",
   "metadata": {},
   "outputs": [],
   "source": [
    "def Sentence_Classifier(Training,Test):\n",
    "    pos_list = []\n",
    "    neg_list = []\n",
    "    pos = neg= 1\n",
    "    for x in Test:\n",
    "        prob_list = []\n",
    "        for i in x.split():\n",
    "            prob_list.append(Probability(i))\n",
    "            pos_list.append(Uniques(prob_list[0][0],Training[0],Training))\n",
    "            neg_list.append(Uniques(prob_list[0][1],Training[1],Training))\n",
    "            prob_list=[]\n",
    "    \n",
    "   \n",
    "    for i in range(0,len(pos_list)):\n",
    "        neg *= neg_list[i]\n",
    "        pos *= pos_list[i]\n",
    "   \n",
    "    pos *= len(Training[0])/(len(Training[0])+len(Training[1]))\n",
    "    neg *= len(Training[0])/(len(Training[0])+len(Training[1]))\n",
    "\n",
    "    final=final_res(pos,neg)\n",
    "    return final"
   ]
  },
  {
   "cell_type": "code",
   "execution_count": 221,
   "id": "34b90035",
   "metadata": {},
   "outputs": [],
   "source": [
    "def final_res(pos,neg):\n",
    "    if pos > neg:\n",
    "        return \"Positive\"\n",
    "    else:\n",
    "        return \"Negative\""
   ]
  },
  {
   "cell_type": "code",
   "execution_count": 222,
   "id": "fd35f8cc",
   "metadata": {},
   "outputs": [],
   "source": [
    "def Probability(word):\n",
    "    count = 0\n",
    "    prob_list = []\n",
    "    \n",
    "    for y in Training_Set:\n",
    "        count = 0\n",
    "        for x in y:\n",
    "            words = x.lower().split()\n",
    "            if word in words:\n",
    "                count += 1 \n",
    "        prob=count/len(y)\n",
    "        prob_list.append(prob)\n",
    "    \n",
    "    return prob_list"
   ]
  },
  {
   "cell_type": "code",
   "execution_count": 223,
   "id": "e0eaa599",
   "metadata": {},
   "outputs": [],
   "source": [
    "def Uniques(prob,data,dataset):\n",
    "    string = \"\"\n",
    "    for i in Training:\n",
    "        for x in i:\n",
    "            x=x.lower()\n",
    "            string+= x + \" \"\n",
    "    string1 = \"\"\n",
    "    for i in data:\n",
    "        i=i.lower()\n",
    "        string1 += i + \" \"\n",
    "    \n",
    "    return (prob+1)/(len(set(string1.split())) + len(set(string.split())))"
   ]
  },
  {
   "cell_type": "code",
   "execution_count": 224,
   "id": "1f1f4df9",
   "metadata": {},
   "outputs": [
    {
     "name": "stdout",
     "output_type": "stream",
     "text": [
      "The Sentence is Negative\n"
     ]
    }
   ],
   "source": [
    "Training = [[\"I love Mangoes\",\n",
    "               \"Mangoes are a lot tastier than other fruits\",\n",
    "               \"I like mangoes because they are good\",\n",
    "               \"Apples are good too but I prefer mangoes\",\n",
    "               \"People say mango is the king of fruit so that is why mangoes are good\",\n",
    "               \"Mangoes are good because they are juicy\"],\n",
    "\n",
    "                [\"Eating too many mangoes can have a negative impact on your health\",\n",
    "                 \"Mangoes are good but not too good, I like apples more than mangoes\",\n",
    "                 \"I do not like mangoes because they are expensive\",\n",
    "                 \"Mangoes are not good\",\n",
    "                 \"I do not like mangoes\",\n",
    "                \"I do not like mangoes because they are bad\"]]\n",
    "\n",
    "test_sentence = [\"I do not like mangoes\"]\n",
    "result=Sentence_Classifier(Training,test_sentence)\n",
    "print('The Sentence is',result)"
   ]
  },
  {
   "cell_type": "code",
   "execution_count": null,
   "id": "b1eadbf4",
   "metadata": {},
   "outputs": [],
   "source": []
  },
  {
   "cell_type": "code",
   "execution_count": null,
   "id": "ed76061c",
   "metadata": {},
   "outputs": [],
   "source": []
  }
 ],
 "metadata": {
  "kernelspec": {
   "display_name": "Python 3 (ipykernel)",
   "language": "python",
   "name": "python3"
  },
  "language_info": {
   "codemirror_mode": {
    "name": "ipython",
    "version": 3
   },
   "file_extension": ".py",
   "mimetype": "text/x-python",
   "name": "python",
   "nbconvert_exporter": "python",
   "pygments_lexer": "ipython3",
   "version": "3.9.7"
  }
 },
 "nbformat": 4,
 "nbformat_minor": 5
}
