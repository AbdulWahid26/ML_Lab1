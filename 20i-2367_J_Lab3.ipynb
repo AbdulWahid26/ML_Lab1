{
 "cells": [
  {
   "cell_type": "markdown",
   "metadata": {},
   "source": [
    "# Abdul Wahid Awan Lab 3 20i-2367 J"
   ]
  },
  {
   "cell_type": "markdown",
   "metadata": {},
   "source": [
    "# Libraries"
   ]
  },
  {
   "cell_type": "code",
   "execution_count": 22,
   "metadata": {},
   "outputs": [],
   "source": [
    "import pandas as pd\n",
    "import numpy as np\n",
    "import math\n",
    "import matplotlib.pyplot as plt"
   ]
  },
  {
   "cell_type": "markdown",
   "metadata": {},
   "source": [
    "# Task"
   ]
  },
  {
   "cell_type": "code",
   "execution_count": 23,
   "metadata": {},
   "outputs": [
    {
     "data": {
      "text/plain": [
       "0"
      ]
     },
     "execution_count": 23,
     "metadata": {},
     "output_type": "execute_result"
    }
   ],
   "source": [
    "vector = np.random.randint(1, 10,size=(2))\n",
    "orthognal_vect = (np.array([vector[1], -vector[0]]))*2\n",
    "orthognal_vect.dot(vector)"
   ]
  },
  {
   "cell_type": "markdown",
   "metadata": {},
   "source": [
    "# Plotting Graphs"
   ]
  },
  {
   "cell_type": "code",
   "execution_count": 24,
   "metadata": {},
   "outputs": [
    {
     "data": {
      "text/plain": [
       "([<matplotlib.axis.YTick at 0x1dec550a3a0>,\n",
       "  <matplotlib.axis.YTick at 0x1dec550a8b0>,\n",
       "  <matplotlib.axis.YTick at 0x1dec5529850>,\n",
       "  <matplotlib.axis.YTick at 0x1dec565c670>,\n",
       "  <matplotlib.axis.YTick at 0x1dec565cb80>,\n",
       "  <matplotlib.axis.YTick at 0x1dec566f880>,\n",
       "  <matplotlib.axis.YTick at 0x1dec5534910>,\n",
       "  <matplotlib.axis.YTick at 0x1dec565c2b0>,\n",
       "  <matplotlib.axis.YTick at 0x1dec5659280>,\n",
       "  <matplotlib.axis.YTick at 0x1dec5659790>,\n",
       "  <matplotlib.axis.YTick at 0x1dec5659ca0>,\n",
       "  <matplotlib.axis.YTick at 0x1dec567f1f0>,\n",
       "  <matplotlib.axis.YTick at 0x1dec567f700>,\n",
       "  <matplotlib.axis.YTick at 0x1dec567fc10>,\n",
       "  <matplotlib.axis.YTick at 0x1dec567f8e0>],\n",
       " <a list of 15 Text major ticklabel objects>)"
      ]
     },
     "execution_count": 24,
     "metadata": {},
     "output_type": "execute_result"
    },
    {
     "data": {
      "image/png": "[encoded data removed]",
      "text/plain": [
       "<Figure size 432x288 with 1 Axes>"
      ]
     },
     "metadata": {
      "needs_background": "light"
     },
     "output_type": "display_data"
    }
   ],
   "source": [
    "plt.plot([0, vector[0]], [0, vector[1]], 'r')\n",
    "plt.plot([0, orthognal_vect[0]], [0, orthognal_vect[1]], 'b')\n",
    "vec=np.arange(0, 10, 1)\n",
    "yvec=np.arange(-5, 10, 1)\n",
    "plt.xticks(vec)\n",
    "plt.yticks(yvec)"
   ]
  },
  {
   "cell_type": "code",
   "execution_count": 25,
   "metadata": {},
   "outputs": [],
   "source": [
    "vector2 = np.array([10,0])\n",
    "vector3 = np.array([0,10])"
   ]
  },
  {
   "cell_type": "code",
   "execution_count": 26,
   "metadata": {},
   "outputs": [],
   "source": [
    "projx = (vector.dot(vector2)/vector2.dot(vector2))*vector2\n",
    "projy = (vector.dot(vector3)/vector3.dot(vector3))*vector3"
   ]
  },
  {
   "cell_type": "code",
   "execution_count": 27,
   "metadata": {},
   "outputs": [
    {
     "data": {
      "text/plain": [
       "([<matplotlib.axis.YTick at 0x1dec50000a0>,\n",
       "  <matplotlib.axis.YTick at 0x1dec5666ca0>,\n",
       "  <matplotlib.axis.YTick at 0x1dec56519d0>,\n",
       "  <matplotlib.axis.YTick at 0x1dec4ffdbb0>,\n",
       "  <matplotlib.axis.YTick at 0x1dec502acd0>,\n",
       "  <matplotlib.axis.YTick at 0x1dec50163d0>,\n",
       "  <matplotlib.axis.YTick at 0x1dec4ffde20>,\n",
       "  <matplotlib.axis.YTick at 0x1dec4ffd5e0>,\n",
       "  <matplotlib.axis.YTick at 0x1dec4ffdf70>,\n",
       "  <matplotlib.axis.YTick at 0x1dec502f2e0>],\n",
       " <a list of 10 Text major ticklabel objects>)"
      ]
     },
     "execution_count": 27,
     "metadata": {},
     "output_type": "execute_result"
    },
    {
     "data": {
      "image/png": "[encoded data removed]",
      "text/plain": [
       "<Figure size 432x288 with 1 Axes>"
      ]
     },
     "metadata": {
      "needs_background": "light"
     },
     "output_type": "display_data"
    }
   ],
   "source": [
    "plt.plot([0, vector[0]], [0, vector[1]], 'r')\n",
    "plt.plot([0, projx[0]], [0, projx[1]], 'b')\n",
    "plt.plot([0, projy[0]], [0, projy[1]], 'g')\n",
    "plt.xticks(vec)\n",
    "plt.yticks(vec)"
   ]
  },
  {
   "cell_type": "code",
   "execution_count": 28,
   "metadata": {},
   "outputs": [
    {
     "data": {
      "text/plain": [
       "51.34019174590991"
      ]
     },
     "execution_count": 28,
     "metadata": {},
     "output_type": "execute_result"
    }
   ],
   "source": [
    "angle = math.acos(vector.dot(vect2)/(math.sqrt(vector.dot(vector))*math.sqrt(vector2.dot(vector2))))*(180/math.pi)\n",
    "angle"
   ]
  },
  {
   "cell_type": "code",
   "execution_count": null,
   "metadata": {},
   "outputs": [],
   "source": []
  }
 ],
 "metadata": {
  "kernelspec": {
   "display_name": "Python 3 (ipykernel)",
   "language": "python",
   "name": "python3"
  },
  "language_info": {
   "codemirror_mode": {
    "name": "ipython",
    "version": 3
   },
   "file_extension": ".py",
   "mimetype": "text/x-python",
   "name": "python",
   "nbconvert_exporter": "python",
   "pygments_lexer": "ipython3",
   "version": "3.9.7"
  },
  "vscode": {
   "interpreter": {
    "hash": "aee8b7b246df8f9039afb4144a1f6fd8d2ca17a180786b69acc140d282b71a49"
   }
  }
 },
 "nbformat": 4,
 "nbformat_minor": 2
}
