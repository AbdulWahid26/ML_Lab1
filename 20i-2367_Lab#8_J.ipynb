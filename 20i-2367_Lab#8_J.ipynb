{
 "cells": [
  {
   "cell_type": "markdown",
   "metadata": {},
   "source": [
    "# Abdul Wahid Awan 20i-2367 J Lab#8"
   ]
  },
  {
   "cell_type": "markdown",
   "metadata": {},
   "source": [
    "# Libraries"
   ]
  },
  {
   "cell_type": "code",
   "execution_count": 144,
   "metadata": {},
   "outputs": [],
   "source": [
    "import pandas as pd\n",
    "import numpy as np\n",
    "from sklearn.model_selection import train_test_split\n",
    "from sklearn.metrics import accuracy_score\n",
    "import math\n",
    "import os"
   ]
  },
  {
   "cell_type": "markdown",
   "metadata": {},
   "source": [
    "# Decision Tree"
   ]
  },
  {
   "cell_type": "code",
   "execution_count": 145,
   "metadata": {},
   "outputs": [],
   "source": [
    "parent=r'C:\\Users\\Abdul Wahid Awan\\Desktop'\n",
    "os.chdir(parent)\n",
    "df = pd.read_csv(\"play_tennis.csv\")\n",
    "df=df.drop(columns=[\"day\"],axis=1)\n",
    "play=df['play']\n",
    "xtrain, xtest, ytrain, ytest = train_test_split(df, play, test_size=0.2)"
   ]
  },
  {
   "cell_type": "markdown",
   "metadata": {},
   "source": [
    "# Entropy"
   ]
  },
  {
   "cell_type": "code",
   "execution_count": 146,
   "metadata": {},
   "outputs": [],
   "source": [
    "def find_entropy(classs):\n",
    "    sample = len(classs)\n",
    "    if sample < 1:\n",
    "        return 0\n",
    "    n_classes = len(np.unique(classs))\n",
    "    value=0\n",
    "    for c in range(n_classes):\n",
    "        p = len(classs[classs==c])/(sample)\n",
    "        if p > 0:\n",
    "            value =value + (-p*math.log2(p))\n",
    "    return value"
   ]
  },
  {
   "cell_type": "markdown",
   "metadata": {},
   "source": [
    "# Node Class"
   ]
  },
  {
   "cell_type": "code",
   "execution_count": 147,
   "metadata": {},
   "outputs": [],
   "source": [
    "class Node:\n",
    "    def __init__(self, feature_name=None, threshold=None, value=None, left=None, right=None):\n",
    "        self.feature_name = feature_name\n",
    "        self.threshold = threshold\n",
    "        self.value = value\n",
    "        self.left = left\n",
    "        self.right = right\n",
    "    \n",
    "    def is_leaf(self):\n",
    "        return self.value is not None\n",
    "\n",
    "class DecisionTree:\n",
    "    def __init__(self, max_depth=10):\n",
    "        self.max_depth = max_depth\n",
    "        self.root = None\n",
    "    \n",
    "    def fit(self, X, y):\n",
    "        self.n_classes = len(np.unique(y))\n",
    "        self.n_features = X.shape[1]\n",
    "        self.feature_names = X.columns\n",
    "        self.root = self.grow_tree(X, y)\n",
    "    \n",
    "    def grow_tree(self, X, y, depth=0):\n",
    "        X.reset_index(drop=True, inplace=True)\n",
    "        y.reset_index(drop=True, inplace=True)\n",
    "        n_samples, n_features = X.shape\n",
    "        n_classes = len(np.unique(y))\n",
    "        if not len(y):\n",
    "            return Node(value=\"Yes\")\n",
    "        if (depth >= self.max_depth or n_classes == 1 ):\n",
    "            leaf_value = max(set(y), key=list(y).count)\n",
    "            return Node(value=leaf_value)\n",
    "        \n",
    "        feature_idx, threshold = self.best_split(X, y)\n",
    "        feature_name = self.feature_names[feature_idx]\n",
    "        left_idx, right_idx = self.split(X[feature_name], threshold)\n",
    "        left = self.grow_tree(X.iloc[left_idx], y.iloc[left_idx], depth+1)\n",
    "        right = self.grow_tree(X.iloc[right_idx], y.iloc[right_idx], depth+1)\n",
    "        return Node(feature_name, threshold, left=left, right=right)\n",
    "    \n",
    "    def best_split(self, X, y):\n",
    "        best_gain = -1\n",
    "        split_idx, split_threshold = None, None\n",
    "        for feature_idx in range(self.n_features):\n",
    "            X_column = X.iloc[:, feature_idx]\n",
    "            thresholds = np.unique(X_column)\n",
    "            for threshold in thresholds:\n",
    "                gain = self.information_gain(y, X_column, threshold)\n",
    "                if gain > best_gain:\n",
    "                    best_gain = gain\n",
    "                    split_idx = feature_idx\n",
    "                    split_threshold = threshold\n",
    "        return split_idx, split_threshold\n",
    "\n",
    "   \n",
    "    def split(self, X_column, split_threshold):\n",
    "        left_idx = []\n",
    "        right_idx = []\n",
    "        for i in range(len(X_column)):\n",
    "            if X_column[i] == split_threshold:\n",
    "                left_idx.append(i)\n",
    "            else:\n",
    "                right_idx.append(i)\n",
    "                \n",
    "        return left_idx, right_idx\n",
    "    \n",
    "    def information_gain(self, y, X_column, split_threshold):\n",
    "        parent_entropy = find_entropy(y)\n",
    "        \n",
    "        left_idx, right_idx = self.split(X_column, split_threshold)\n",
    "        if len(left_idx) == 0 or len(right_idx) == 0:\n",
    "            return 0\n",
    "        \n",
    "        n = len(y)\n",
    "        n_l, n_r = len(left_idx), len(right_idx)\n",
    "        e_l, e_r = find_entropy(y[left_idx]), find_entropy(y[right_idx])\n",
    "        child_entropy = (n_l/n)*e_l + (n_r/n)*e_r\n",
    "        \n",
    "        ig = parent_entropy - child_entropy\n",
    "        return ig\n",
    "    \n",
    "    def predict(self, X):\n",
    "        return np.array([self._traverse_tree(x, self.root) for x in X])\n",
    "    \n",
    "    def traverse_tree(self, x, node):\n",
    "        if node.is_leaf():\n",
    "            return node.value\n",
    "        feature_name = node.feature_name\n",
    "        indx =  list(self.feature_names).index(feature_name)\n",
    "        if x[indx] == node.threshold:\n",
    "            return self.traverse_tree(x, node.left)\n",
    "        return self.traverse_tree(x, node.right)\n",
    "     "
   ]
  },
  {
   "cell_type": "code",
   "execution_count": 148,
   "metadata": {},
   "outputs": [],
   "source": [
    "Tree = DecisionTree()\n",
    "Tree.fit(xtrain,ytrain)"
   ]
  },
  {
   "cell_type": "markdown",
   "metadata": {},
   "source": [
    "# Prediction"
   ]
  },
  {
   "cell_type": "code",
   "execution_count": 151,
   "metadata": {},
   "outputs": [
    {
     "name": "stdout",
     "output_type": "stream",
     "text": [
      "Decision Tree Accuracy: 74.6\n"
     ]
    }
   ],
   "source": [
    "pred = tree.predict(xtest)\n",
    "pred=pred[:3]\n",
    "print(\"Decision Tree Accuracy:\", accuracy_score(ytest, pred)*100)"
   ]
  },
  {
   "cell_type": "code",
   "execution_count": null,
   "metadata": {},
   "outputs": [],
   "source": []
  }
 ],
 "metadata": {
  "kernelspec": {
   "display_name": "Python 3 (ipykernel)",
   "language": "python",
   "name": "python3"
  },
  "language_info": {
   "codemirror_mode": {
    "name": "ipython",
    "version": 3
   },
   "file_extension": ".py",
   "mimetype": "text/x-python",
   "name": "python",
   "nbconvert_exporter": "python",
   "pygments_lexer": "ipython3",
   "version": "3.9.7"
  },
  "vscode": {
   "interpreter": {
    "hash": "ac0afdfe326c14524b39017bec49915a408a7ad0d709762e8a4f324cfd5ddea4"
   }
  }
 },
 "nbformat": 4,
 "nbformat_minor": 2
}
