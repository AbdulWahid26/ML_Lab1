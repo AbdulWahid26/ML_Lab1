{
 "cells": [
  {
   "cell_type": "markdown",
   "id": "02398ecf",
   "metadata": {},
   "source": [
    "# Abdul Wahid Awan 20i-2367 J"
   ]
  },
  {
   "cell_type": "markdown",
   "id": "5f08e749",
   "metadata": {},
   "source": [
    "# Libraries"
   ]
  },
  {
   "cell_type": "code",
   "execution_count": 37,
   "id": "15837f95",
   "metadata": {},
   "outputs": [],
   "source": [
    "import math\n",
    "import pandas as pd\n",
    "import numpy as np\n",
    "from itertools import combinations,combinations_with_replacement,permutations\n",
    "import random"
   ]
  },
  {
   "cell_type": "markdown",
   "id": "1215b1ec",
   "metadata": {},
   "source": [
    "# Task1"
   ]
  },
  {
   "cell_type": "code",
   "execution_count": 38,
   "id": "caec41b1",
   "metadata": {},
   "outputs": [],
   "source": [
    "RandomState = [(x,y,z) for x in range(0,6) for y in range(0,4) for z in range(0,5)]\n",
    "selected=[]\n",
    "for i in RandomState:\n",
    "    if sum(i)==3:\n",
    "        selected.append(i)"
   ]
  },
  {
   "cell_type": "code",
   "execution_count": 39,
   "id": "fcab43e9",
   "metadata": {},
   "outputs": [],
   "source": [
    "# 0 for white , 1 for Blue , 2 for Red"
   ]
  },
  {
   "cell_type": "code",
   "execution_count": 40,
   "id": "e13492bd",
   "metadata": {},
   "outputs": [],
   "source": [
    "def Probability(x1,x2,x3):\n",
    "    a = math.factorial(6) /  (math.factorial(6-x1)*math.factorial(x1))\n",
    "    b = math.factorial(4) /  (math.factorial(4-x2)*math.factorial(x2))    \n",
    "    c = math.factorial(5) /  (math.factorial(5-x3)*math.factorial(x3))   \n",
    "    temp = math.factorial(15) / (math.factorial(12)*math.factorial(3))\n",
    "    return (a*b*c) / temp"
   ]
  },
  {
   "cell_type": "code",
   "execution_count": 41,
   "id": "471e1f68",
   "metadata": {},
   "outputs": [
    {
     "name": "stdout",
     "output_type": "stream",
     "text": [
      "Combination: (0, 0, 3)  Probability: 0.04395604395604396\n",
      "Combination: (0, 1, 2)  Probability: 0.04395604395604396\n",
      "Combination: (0, 2, 1)  Probability: 0.04395604395604396\n",
      "Combination: (0, 3, 0)  Probability: 0.04395604395604396\n",
      "Combination: (1, 0, 2)  Probability: 0.04395604395604396\n",
      "Combination: (1, 1, 1)  Probability: 0.04395604395604396\n",
      "Combination: (1, 2, 0)  Probability: 0.04395604395604396\n",
      "Combination: (2, 0, 1)  Probability: 0.04395604395604396\n",
      "Combination: (2, 1, 0)  Probability: 0.04395604395604396\n",
      "Combination: (3, 0, 0)  Probability: 0.04395604395604396\n"
     ]
    }
   ],
   "source": [
    "for i in selected:\n",
    "    print('Combination:',i,' Probability:',Probability(x[0],x[1],x[2]))"
   ]
  },
  {
   "cell_type": "markdown",
   "id": "5eda785d",
   "metadata": {},
   "source": [
    "# Bonus Task"
   ]
  },
  {
   "cell_type": "code",
   "execution_count": 42,
   "id": "0c2272c1",
   "metadata": {},
   "outputs": [],
   "source": [
    "size_of_pizza = 8"
   ]
  },
  {
   "cell_type": "code",
   "execution_count": 43,
   "id": "d6f9fcff",
   "metadata": {},
   "outputs": [],
   "source": [
    "def area_of_pizza(size):\n",
    "    return (size/2)**2 * (22/7)"
   ]
  },
  {
   "cell_type": "code",
   "execution_count": 44,
   "id": "d1231f0b",
   "metadata": {},
   "outputs": [],
   "source": [
    "size_of_pizza = 8\n",
    "area_8 = area_of_pizza(size_of_pizza)"
   ]
  },
  {
   "cell_type": "code",
   "execution_count": 45,
   "id": "4403a576",
   "metadata": {},
   "outputs": [],
   "source": [
    "size_of_pizza = 5\n",
    "area_5 = area_of_pizza(size_of_pizza)"
   ]
  },
  {
   "cell_type": "code",
   "execution_count": 46,
   "id": "5ed102df",
   "metadata": {
    "scrolled": true
   },
   "outputs": [
    {
     "name": "stdout",
     "output_type": "stream",
     "text": [
      "50.285714285714285 39.285714285714285\n"
     ]
    }
   ],
   "source": [
    "print(area_8, 2*area_5)"
   ]
  },
  {
   "cell_type": "code",
   "execution_count": 47,
   "id": "22399ede",
   "metadata": {},
   "outputs": [
    {
     "name": "stdout",
     "output_type": "stream",
     "text": [
      "8 inches Pizza is better\n"
     ]
    }
   ],
   "source": [
    "if area_8 > 2*area_5:\n",
    "    print(\"8 inches Pizza is better\")\n",
    "else:\n",
    "    print(\"5 inches Pizza is better\")\n"
   ]
  },
  {
   "cell_type": "code",
   "execution_count": 48,
   "id": "aa63292a",
   "metadata": {},
   "outputs": [],
   "source": [
    "# Comment\n",
    "# 8 inches pizza is better than two 5 inches pizza as 8 inches covers more area than 5 inches. The deal is not benificial at\n",
    "# all as it as bluff because customer thinks two 5 inches will cover more area than 8 inches pizza."
   ]
  },
  {
   "cell_type": "code",
   "execution_count": null,
   "id": "9c96cfdf",
   "metadata": {},
   "outputs": [],
   "source": []
  }
 ],
 "metadata": {
  "kernelspec": {
   "display_name": "Python 3 (ipykernel)",
   "language": "python",
   "name": "python3"
  },
  "language_info": {
   "codemirror_mode": {
    "name": "ipython",
    "version": 3
   },
   "file_extension": ".py",
   "mimetype": "text/x-python",
   "name": "python",
   "nbconvert_exporter": "python",
   "pygments_lexer": "ipython3",
   "version": "3.9.7"
  }
 },
 "nbformat": 4,
 "nbformat_minor": 5
}
